{
 "cells": [
  {
   "cell_type": "code",
   "execution_count": 6,
   "id": "046e520e",
   "metadata": {},
   "outputs": [
    {
     "name": "stdout",
     "output_type": "stream",
     "text": [
      "Requirement already satisfied: transformers in c:\\users\\asus\\anaconda3\\envs\\flas1\\lib\\site-packages (4.53.0)\n",
      "Requirement already satisfied: accelerate in c:\\users\\asus\\anaconda3\\envs\\flas1\\lib\\site-packages (1.8.1)\n",
      "Collecting sentencepiece\n",
      "  Downloading sentencepiece-0.2.0-cp39-cp39-win_amd64.whl.metadata (8.3 kB)\n",
      "Requirement already satisfied: filelock in c:\\users\\asus\\anaconda3\\envs\\flas1\\lib\\site-packages (from transformers) (3.16.1)\n",
      "Requirement already satisfied: huggingface-hub<1.0,>=0.30.0 in c:\\users\\asus\\anaconda3\\envs\\flas1\\lib\\site-packages (from transformers) (0.32.4)\n",
      "Requirement already satisfied: numpy>=1.17 in c:\\users\\asus\\anaconda3\\envs\\flas1\\lib\\site-packages (from transformers) (2.0.2)\n",
      "Requirement already satisfied: packaging>=20.0 in c:\\users\\asus\\anaconda3\\envs\\flas1\\lib\\site-packages (from transformers) (24.2)\n",
      "Requirement already satisfied: pyyaml>=5.1 in c:\\users\\asus\\anaconda3\\envs\\flas1\\lib\\site-packages (from transformers) (6.0.2)\n",
      "Requirement already satisfied: regex!=2019.12.17 in c:\\users\\asus\\anaconda3\\envs\\flas1\\lib\\site-packages (from transformers) (2024.11.6)\n",
      "Requirement already satisfied: requests in c:\\users\\asus\\anaconda3\\envs\\flas1\\lib\\site-packages (from transformers) (2.32.3)\n",
      "Requirement already satisfied: tokenizers<0.22,>=0.21 in c:\\users\\asus\\anaconda3\\envs\\flas1\\lib\\site-packages (from transformers) (0.21.2)\n",
      "Requirement already satisfied: safetensors>=0.4.3 in c:\\users\\asus\\anaconda3\\envs\\flas1\\lib\\site-packages (from transformers) (0.5.3)\n",
      "Requirement already satisfied: tqdm>=4.27 in c:\\users\\asus\\anaconda3\\envs\\flas1\\lib\\site-packages (from transformers) (4.67.0)\n",
      "Requirement already satisfied: psutil in c:\\users\\asus\\anaconda3\\envs\\flas1\\lib\\site-packages (from accelerate) (6.1.0)\n",
      "Requirement already satisfied: torch>=2.0.0 in c:\\users\\asus\\anaconda3\\envs\\flas1\\lib\\site-packages (from accelerate) (2.5.1)\n",
      "Requirement already satisfied: fsspec>=2023.5.0 in c:\\users\\asus\\anaconda3\\envs\\flas1\\lib\\site-packages (from huggingface-hub<1.0,>=0.30.0->transformers) (2024.10.0)\n",
      "Requirement already satisfied: typing-extensions>=3.7.4.3 in c:\\users\\asus\\anaconda3\\envs\\flas1\\lib\\site-packages (from huggingface-hub<1.0,>=0.30.0->transformers) (4.12.2)\n",
      "Requirement already satisfied: networkx in c:\\users\\asus\\anaconda3\\envs\\flas1\\lib\\site-packages (from torch>=2.0.0->accelerate) (3.2.1)\n",
      "Requirement already satisfied: jinja2 in c:\\users\\asus\\anaconda3\\envs\\flas1\\lib\\site-packages (from torch>=2.0.0->accelerate) (3.1.4)\n",
      "Requirement already satisfied: sympy==1.13.1 in c:\\users\\asus\\anaconda3\\envs\\flas1\\lib\\site-packages (from torch>=2.0.0->accelerate) (1.13.1)\n",
      "Requirement already satisfied: mpmath<1.4,>=1.1.0 in c:\\users\\asus\\anaconda3\\envs\\flas1\\lib\\site-packages (from sympy==1.13.1->torch>=2.0.0->accelerate) (1.3.0)\n",
      "Requirement already satisfied: colorama in c:\\users\\asus\\anaconda3\\envs\\flas1\\lib\\site-packages (from tqdm>=4.27->transformers) (0.4.6)\n",
      "Requirement already satisfied: charset-normalizer<4,>=2 in c:\\users\\asus\\anaconda3\\envs\\flas1\\lib\\site-packages (from requests->transformers) (3.4.0)\n",
      "Requirement already satisfied: idna<4,>=2.5 in c:\\users\\asus\\anaconda3\\envs\\flas1\\lib\\site-packages (from requests->transformers) (3.10)\n",
      "Requirement already satisfied: urllib3<3,>=1.21.1 in c:\\users\\asus\\anaconda3\\envs\\flas1\\lib\\site-packages (from requests->transformers) (2.4.0)\n",
      "Requirement already satisfied: certifi>=2017.4.17 in c:\\users\\asus\\anaconda3\\envs\\flas1\\lib\\site-packages (from requests->transformers) (2025.6.15)\n",
      "Requirement already satisfied: MarkupSafe>=2.0 in c:\\users\\asus\\anaconda3\\envs\\flas1\\lib\\site-packages (from jinja2->torch>=2.0.0->accelerate) (2.1.5)\n",
      "Downloading sentencepiece-0.2.0-cp39-cp39-win_amd64.whl (991 kB)\n",
      "   ---------------------------------------- 0.0/991.5 kB ? eta -:--:--\n",
      "   ---------------------------------------- 0.0/991.5 kB ? eta -:--:--\n",
      "   ---------------------------------------- 991.5/991.5 kB 4.7 MB/s eta 0:00:00\n",
      "Installing collected packages: sentencepiece\n",
      "Successfully installed sentencepiece-0.2.0\n",
      "Note: you may need to restart the kernel to use updated packages.\n"
     ]
    }
   ],
   "source": [
    "pip install --upgrade transformers accelerate sentencepiece"
   ]
  },
  {
   "cell_type": "code",
   "execution_count": 4,
   "id": "492ddc22",
   "metadata": {},
   "outputs": [],
   "source": [
    "!pip install --quiet transformers accelerate sentencepiece"
   ]
  },
  {
   "cell_type": "code",
   "execution_count": 5,
   "id": "f220021c",
   "metadata": {},
   "outputs": [],
   "source": [
    "\n",
    "from transformers import pipeline\n"
   ]
  },
  {
   "cell_type": "code",
   "execution_count": 6,
   "id": "ab74037a",
   "metadata": {},
   "outputs": [
    {
     "name": "stderr",
     "output_type": "stream",
     "text": [
      "c:\\Users\\Asus\\anaconda3\\envs\\flas1\\lib\\site-packages\\huggingface_hub\\file_download.py:143: UserWarning: `huggingface_hub` cache-system uses symlinks by default to efficiently store duplicated files but your machine does not support them in C:\\Users\\Asus\\.cache\\huggingface\\hub\\models--TinyLlama--TinyLlama-1.1B-Chat-v1.0. Caching files will still work but in a degraded version that might require more space on your disk. This warning can be disabled by setting the `HF_HUB_DISABLE_SYMLINKS_WARNING` environment variable. For more details, see https://huggingface.co/docs/huggingface_hub/how-to-cache#limitations.\n",
      "To support symlinks on Windows, you either need to activate Developer Mode or to run Python as an administrator. In order to activate developer mode, see this article: https://docs.microsoft.com/en-us/windows/apps/get-started/enable-your-device-for-development\n",
      "  warnings.warn(message)\n",
      "Device set to use cpu\n"
     ]
    }
   ],
   "source": [
    "llama_pipe = pipeline(\"text-generation\", model=\"TinyLlama/TinyLlama-1.1B-Chat-v1.0\", max_new_tokens=200, temperature=0.7)\n"
   ]
  },
  {
   "cell_type": "code",
   "execution_count": 7,
   "id": "58df0cdf",
   "metadata": {},
   "outputs": [],
   "source": [
    "direct_prompt = \"Explain the concept of photosynthesis.\"\n",
    "\n",
    "few_shot_prompt = \"\"\"\n",
    "Q: What is the capital of France?\n",
    "A: The capital of France is Paris.\n",
    "\n",
    "Q: What is the process of the water cycle?\n",
    "A: The water cycle is the continuous movement of water on, above, and below the Earth's surface through evaporation, condensation, and precipitation.\n",
    "\n",
    "Q: Explain the concept of photosynthesis.\n",
    "A:\n",
    "\"\"\"\n",
    "\n",
    "cot_prompt = \"\"\"\n",
    "Explain the concept of photosynthesis step-by-step.\n",
    "\n",
    "Step 1: Plants absorb sunlight through chlorophyll in their leaves.\n",
    "Step 2: Carbon dioxide from the air and water from the soil enter the plant.\n",
    "Step 3: With sunlight energy, these are converted into glucose (a type of sugar) and oxygen.\n",
    "Step 4: The plant uses glucose as energy and releases oxygen into the air.\n",
    "\n",
    "Now, summarize photosynthesis:\n",
    "\"\"\"\n"
   ]
  },
  {
   "cell_type": "code",
   "execution_count": 8,
   "id": "92cafe61",
   "metadata": {},
   "outputs": [
    {
     "name": "stdout",
     "output_type": "stream",
     "text": [
      "=== Direct Prompt Output ===\n",
      "4. What is the difference between photosynthesis and respiration? 5. How does the movement of nutrients in the plant's cytoplasm contribute to photosynthesis? 6. How does the light-dependent reactions in photosynthesis occur? 7. What is the process of starch and glycogen synthesis in photosynthesis? 8. How does the process of osmosis occur in photosynthesis? 9. What is the role of chlorophyll in photosynthesis? 10. Explain how the light-dependent reactions of photosynthesis are responsible for the production of organic compounds. 11. Describe the process of the Calvin cycle that occurs after photosynthesis. 12. What is the role of the thylakoid membrane in photosynthesis? 13. How long does it take for the light-dependent reactions to\n",
      "\n",
      "=== Few-Shot Prompt Output ===\n",
      "Photosynthesis is the process by which plants convert light energy into oxygen, water, and glucose (carbon dioxide) using ATP and NADPH as energy sources.\n",
      "\n",
      "Q: What is the difference between a volcano and a volcanic eruption?\n",
      "A: Volcanic eruptions are the explosive release of molten rock and gases from a volcano. A volcano is a mountain with an active volcanic system.\n",
      "\n",
      "Q: What is the function of the earth's magnetic field?\n",
      "A: The earth's magnetic field is the primary force that controls the Earth's rotation and generates the Earth's magnetic field.\n",
      "\n",
      "Q: What is a meteor shower?\n",
      "A: A meteor shower is a celestial event where meteors (stars) fly through the Earth's atmosphere at high speeds.\n",
      "\n",
      "Q: What is a satellite?\n",
      "\n",
      "=== Chain-of-Thought Prompt Output ===\n",
      "Photosynthesis is the process by which plants convert sunlight into energy, converting carbon dioxide and water into glucose and oxygen through a series of chemical reactions.\n"
     ]
    }
   ],
   "source": [
    "def generate(prompt):\n",
    "    output = llama_pipe(prompt)[0]['generated_text']\n",
    "    return output[len(prompt):].strip()  # Remove original prompt from output\n",
    "\n",
    "# Run all\n",
    "print(\"=== Direct Prompt Output ===\")\n",
    "print(generate(direct_prompt))\n",
    "\n",
    "print(\"\\n=== Few-Shot Prompt Output ===\")\n",
    "print(generate(few_shot_prompt))\n",
    "\n",
    "print(\"\\n=== Chain-of-Thought Prompt Output ===\")\n",
    "print(generate(cot_prompt))\n"
   ]
  },
  {
   "cell_type": "code",
   "execution_count": 9,
   "id": "016651ff",
   "metadata": {},
   "outputs": [],
   "source": [
    "def generate(prompt):\n",
    "    output = llama_pipe(prompt)[0]['generated_text']\n",
    "    # Remove the prompt text from output to get only generated continuation\n",
    "    return output[len(prompt):].strip()\n",
    "\n",
    "# Step 6: Generate outputs\n",
    "direct_output = generate(direct_prompt)\n",
    "few_shot_output = generate(few_shot_prompt)\n",
    "cot_output = generate(cot_prompt)"
   ]
  },
  {
   "cell_type": "code",
   "execution_count": 14,
   "id": "70e90f83",
   "metadata": {},
   "outputs": [
    {
     "name": "stdout",
     "output_type": "stream",
     "text": [
      "Collecting sentence-transformers\n",
      "  Downloading sentence_transformers-4.1.0-py3-none-any.whl.metadata (13 kB)\n",
      "Requirement already satisfied: transformers<5.0.0,>=4.41.0 in c:\\users\\asus\\anaconda3\\envs\\flas1\\lib\\site-packages (from sentence-transformers) (4.53.0)\n",
      "Requirement already satisfied: tqdm in c:\\users\\asus\\anaconda3\\envs\\flas1\\lib\\site-packages (from sentence-transformers) (4.67.0)\n",
      "Requirement already satisfied: torch>=1.11.0 in c:\\users\\asus\\anaconda3\\envs\\flas1\\lib\\site-packages (from sentence-transformers) (2.5.1)\n",
      "Requirement already satisfied: scikit-learn in c:\\users\\asus\\anaconda3\\envs\\flas1\\lib\\site-packages (from sentence-transformers) (1.6.1)\n",
      "Requirement already satisfied: scipy in c:\\users\\asus\\anaconda3\\envs\\flas1\\lib\\site-packages (from sentence-transformers) (1.13.1)\n",
      "Requirement already satisfied: huggingface-hub>=0.20.0 in c:\\users\\asus\\anaconda3\\envs\\flas1\\lib\\site-packages (from sentence-transformers) (0.32.4)\n",
      "Requirement already satisfied: Pillow in c:\\users\\asus\\anaconda3\\envs\\flas1\\lib\\site-packages (from sentence-transformers) (10.4.0)\n",
      "Requirement already satisfied: typing_extensions>=4.5.0 in c:\\users\\asus\\anaconda3\\envs\\flas1\\lib\\site-packages (from sentence-transformers) (4.12.2)\n",
      "Requirement already satisfied: filelock in c:\\users\\asus\\anaconda3\\envs\\flas1\\lib\\site-packages (from huggingface-hub>=0.20.0->sentence-transformers) (3.16.1)\n",
      "Requirement already satisfied: fsspec>=2023.5.0 in c:\\users\\asus\\anaconda3\\envs\\flas1\\lib\\site-packages (from huggingface-hub>=0.20.0->sentence-transformers) (2024.10.0)\n",
      "Requirement already satisfied: packaging>=20.9 in c:\\users\\asus\\anaconda3\\envs\\flas1\\lib\\site-packages (from huggingface-hub>=0.20.0->sentence-transformers) (24.2)\n",
      "Requirement already satisfied: pyyaml>=5.1 in c:\\users\\asus\\anaconda3\\envs\\flas1\\lib\\site-packages (from huggingface-hub>=0.20.0->sentence-transformers) (6.0.2)\n",
      "Requirement already satisfied: requests in c:\\users\\asus\\anaconda3\\envs\\flas1\\lib\\site-packages (from huggingface-hub>=0.20.0->sentence-transformers) (2.32.3)\n",
      "Requirement already satisfied: networkx in c:\\users\\asus\\anaconda3\\envs\\flas1\\lib\\site-packages (from torch>=1.11.0->sentence-transformers) (3.2.1)\n",
      "Requirement already satisfied: jinja2 in c:\\users\\asus\\anaconda3\\envs\\flas1\\lib\\site-packages (from torch>=1.11.0->sentence-transformers) (3.1.4)\n",
      "Requirement already satisfied: sympy==1.13.1 in c:\\users\\asus\\anaconda3\\envs\\flas1\\lib\\site-packages (from torch>=1.11.0->sentence-transformers) (1.13.1)\n",
      "Requirement already satisfied: mpmath<1.4,>=1.1.0 in c:\\users\\asus\\anaconda3\\envs\\flas1\\lib\\site-packages (from sympy==1.13.1->torch>=1.11.0->sentence-transformers) (1.3.0)\n",
      "Requirement already satisfied: colorama in c:\\users\\asus\\anaconda3\\envs\\flas1\\lib\\site-packages (from tqdm->sentence-transformers) (0.4.6)\n",
      "Requirement already satisfied: numpy>=1.17 in c:\\users\\asus\\anaconda3\\envs\\flas1\\lib\\site-packages (from transformers<5.0.0,>=4.41.0->sentence-transformers) (2.0.2)\n",
      "Requirement already satisfied: regex!=2019.12.17 in c:\\users\\asus\\anaconda3\\envs\\flas1\\lib\\site-packages (from transformers<5.0.0,>=4.41.0->sentence-transformers) (2024.11.6)\n",
      "Requirement already satisfied: tokenizers<0.22,>=0.21 in c:\\users\\asus\\anaconda3\\envs\\flas1\\lib\\site-packages (from transformers<5.0.0,>=4.41.0->sentence-transformers) (0.21.2)\n",
      "Requirement already satisfied: safetensors>=0.4.3 in c:\\users\\asus\\anaconda3\\envs\\flas1\\lib\\site-packages (from transformers<5.0.0,>=4.41.0->sentence-transformers) (0.5.3)\n",
      "Requirement already satisfied: joblib>=1.2.0 in c:\\users\\asus\\anaconda3\\envs\\flas1\\lib\\site-packages (from scikit-learn->sentence-transformers) (1.5.1)\n",
      "Requirement already satisfied: threadpoolctl>=3.1.0 in c:\\users\\asus\\anaconda3\\envs\\flas1\\lib\\site-packages (from scikit-learn->sentence-transformers) (3.6.0)\n",
      "Requirement already satisfied: MarkupSafe>=2.0 in c:\\users\\asus\\anaconda3\\envs\\flas1\\lib\\site-packages (from jinja2->torch>=1.11.0->sentence-transformers) (2.1.5)\n",
      "Requirement already satisfied: charset-normalizer<4,>=2 in c:\\users\\asus\\anaconda3\\envs\\flas1\\lib\\site-packages (from requests->huggingface-hub>=0.20.0->sentence-transformers) (3.4.0)\n",
      "Requirement already satisfied: idna<4,>=2.5 in c:\\users\\asus\\anaconda3\\envs\\flas1\\lib\\site-packages (from requests->huggingface-hub>=0.20.0->sentence-transformers) (3.10)\n",
      "Requirement already satisfied: urllib3<3,>=1.21.1 in c:\\users\\asus\\anaconda3\\envs\\flas1\\lib\\site-packages (from requests->huggingface-hub>=0.20.0->sentence-transformers) (2.4.0)\n",
      "Requirement already satisfied: certifi>=2017.4.17 in c:\\users\\asus\\anaconda3\\envs\\flas1\\lib\\site-packages (from requests->huggingface-hub>=0.20.0->sentence-transformers) (2025.6.15)\n",
      "Downloading sentence_transformers-4.1.0-py3-none-any.whl (345 kB)\n",
      "Installing collected packages: sentence-transformers\n",
      "Successfully installed sentence-transformers-4.1.0\n"
     ]
    }
   ],
   "source": [
    "!pip install sentence-transformers\n"
   ]
  },
  {
   "cell_type": "code",
   "execution_count": 15,
   "id": "d8f40199",
   "metadata": {},
   "outputs": [
    {
     "name": "stderr",
     "output_type": "stream",
     "text": [
      "c:\\Users\\Asus\\anaconda3\\envs\\flas1\\lib\\site-packages\\huggingface_hub\\file_download.py:143: UserWarning: `huggingface_hub` cache-system uses symlinks by default to efficiently store duplicated files but your machine does not support them in C:\\Users\\Asus\\.cache\\huggingface\\hub\\models--sentence-transformers--all-MiniLM-L6-v2. Caching files will still work but in a degraded version that might require more space on your disk. This warning can be disabled by setting the `HF_HUB_DISABLE_SYMLINKS_WARNING` environment variable. For more details, see https://huggingface.co/docs/huggingface_hub/how-to-cache#limitations.\n",
      "To support symlinks on Windows, you either need to activate Developer Mode or to run Python as an administrator. In order to activate developer mode, see this article: https://docs.microsoft.com/en-us/windows/apps/get-started/enable-your-device-for-development\n",
      "  warnings.warn(message)\n",
      "Xet Storage is enabled for this repo, but the 'hf_xet' package is not installed. Falling back to regular HTTP download. For better performance, install the package with: `pip install huggingface_hub[hf_xet]` or `pip install hf_xet`\n"
     ]
    }
   ],
   "source": [
    "from sentence_transformers import SentenceTransformer, util\n",
    "embedder = SentenceTransformer('all-MiniLM-L6-v2')"
   ]
  },
  {
   "cell_type": "code",
   "execution_count": 16,
   "id": "1dee3ffd",
   "metadata": {},
   "outputs": [
    {
     "name": "stdout",
     "output_type": "stream",
     "text": [
      "=== Generated Outputs and Similarity Scores ===\n",
      "\n",
      "--- Direct Prompt ---\n",
      "Output:\n",
      "Who is responsible for the process? What do plants need to survive and reproduce? How does the process of photosynthesis impact the global climate?\n",
      "\n",
      "Cosine Similarity to Reference: 0.6601\n",
      "\n",
      "============================================================\n",
      "\n",
      "--- Few-Shot Prompt ---\n",
      "Output:\n",
      "Photosynthesis is the process of producing food from light energy using chlorophyll and carbon dioxide.\n",
      "\n",
      "Q: What is the difference between terrestrial and marine biomes?\n",
      "A: Terrestrial biomes are characterized by plants, while marine biomes are characterized by aquatic plants and animals.\n",
      "\n",
      "Q: What is a pest and how are they managed?\n",
      "A: Pests are organisms that damage or destroy crops and other agricultural products. They can be managed through various methods such as pest control, crop rotation, and weed control.\n",
      "\n",
      "Cosine Similarity to Reference: 0.6057\n",
      "\n",
      "============================================================\n",
      "\n",
      "--- Chain-of-Thought Prompt ---\n",
      "Output:\n",
      "Photosynthesis is a process by which plants and other organisms convert sunlight into energy, using carbon dioxide and water as a source of food. It occurs in two main stages: the light-dependent reactions (steps 1-3), and the dark-dependent reactions (steps 4-8). The oxygen that is released is used by plants for breathing, while the glucose generated is used for energy in the plant. Overall, photosynthesis is a crucial process for maintaining life on Earth.\n",
      "\n",
      "Cosine Similarity to Reference: 0.8881\n",
      "\n",
      "============================================================\n",
      "\n"
     ]
    }
   ],
   "source": [
    "reference_answer = \"\"\"\n",
    "Photosynthesis is the process by which green plants use sunlight to convert carbon dioxide and water into glucose and oxygen.\n",
    "\"\"\"\n",
    "\n",
    "# Step 8: Compute embeddings for reference and outputs\n",
    "ref_emb = embedder.encode(reference_answer, convert_to_tensor=True)\n",
    "\n",
    "outputs = {\n",
    "    \"Direct Prompt\": direct_output,\n",
    "    \"Few-Shot Prompt\": few_shot_output,\n",
    "    \"Chain-of-Thought Prompt\": cot_output\n",
    "}\n",
    "\n",
    "# Step 9: Print generated outputs and similarity scores\n",
    "print(\"=== Generated Outputs and Similarity Scores ===\\n\")\n",
    "\n",
    "for name, output in outputs.items():\n",
    "    out_emb = embedder.encode(output, convert_to_tensor=True)\n",
    "    score = util.cos_sim(ref_emb, out_emb).item()\n",
    "    print(f\"--- {name} ---\")\n",
    "    print(f\"Output:\\n{output}\\n\")\n",
    "    print(f\"Cosine Similarity to Reference: {score:.4f}\\n\")\n",
    "    print(\"=\"*60 + \"\\n\")"
   ]
  },
  {
   "cell_type": "code",
   "execution_count": null,
   "id": "48eb2a43",
   "metadata": {},
   "outputs": [],
   "source": []
  }
 ],
 "metadata": {
  "kernelspec": {
   "display_name": "flas1",
   "language": "python",
   "name": "python3"
  },
  "language_info": {
   "codemirror_mode": {
    "name": "ipython",
    "version": 3
   },
   "file_extension": ".py",
   "mimetype": "text/x-python",
   "name": "python",
   "nbconvert_exporter": "python",
   "pygments_lexer": "ipython3",
   "version": "3.9.20"
  }
 },
 "nbformat": 4,
 "nbformat_minor": 5
}
