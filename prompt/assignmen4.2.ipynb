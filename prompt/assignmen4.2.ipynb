{
 "cells": [
  {
   "cell_type": "code",
   "execution_count": 1,
   "id": "522577e1",
   "metadata": {},
   "outputs": [
    {
     "name": "stderr",
     "output_type": "stream",
     "text": [
      "c:\\Users\\Asus\\anaconda3\\envs\\flas1\\lib\\site-packages\\tqdm\\auto.py:21: TqdmWarning: IProgress not found. Please update jupyter and ipywidgets. See https://ipywidgets.readthedocs.io/en/stable/user_install.html\n",
      "  from .autonotebook import tqdm as notebook_tqdm\n"
     ]
    }
   ],
   "source": [
    "from transformers import pipeline"
   ]
  },
  {
   "cell_type": "code",
   "execution_count": 2,
   "id": "bbd2c39a",
   "metadata": {},
   "outputs": [
    {
     "name": "stderr",
     "output_type": "stream",
     "text": [
      "Device set to use cpu\n"
     ]
    }
   ],
   "source": [
    "llama_pipe = pipeline(\n",
    "    \"text-generation\",\n",
    "    model=\"TinyLlama/TinyLlama-1.1B-Chat-v1.0\",\n",
    "    max_new_tokens=50,\n",
    "    temperature=0.7,\n",
    ")"
   ]
  },
  {
   "cell_type": "code",
   "execution_count": 3,
   "id": "69e65317",
   "metadata": {},
   "outputs": [],
   "source": [
    "def generate(prompt):\n",
    "    output = llama_pipe(prompt)[0]['generated_text']\n",
    "    # Remove the prompt from output for clean result\n",
    "    return output[len(prompt):].strip()\n"
   ]
  },
  {
   "cell_type": "code",
   "execution_count": 4,
   "id": "431db28d",
   "metadata": {},
   "outputs": [],
   "source": [
    "texts = [\n",
    "    \"I absolutely love this movie! It was fantastic and inspiring.\",\n",
    "    \"The product was okay, but it could be better.\",\n",
    "    \"I hate this restaurant. The food was awful and the service terrible.\",\n",
    "]"
   ]
  },
  {
   "cell_type": "code",
   "execution_count": 5,
   "id": "29ae7638",
   "metadata": {},
   "outputs": [],
   "source": [
    "basic_prompt_template = 'What is the sentiment of this text? Text: \"{}\" Sentiment:'"
   ]
  },
  {
   "cell_type": "code",
   "execution_count": 6,
   "id": "aae3216d",
   "metadata": {},
   "outputs": [],
   "source": [
    "instruction_prompt_template = (\n",
    "    'Classify the sentiment of the following text into Positive, Negative, or Neutral.\\n'\n",
    "    'Text: \"{}\"\\nSentiment:'\n",
    ")\n"
   ]
  },
  {
   "cell_type": "code",
   "execution_count": 8,
   "id": "637dce15",
   "metadata": {},
   "outputs": [],
   "source": [
    "few_shot_prompt_template = (\n",
    "    'Classify the sentiment of the following text into Positive, Negative, or Neutral.\\n\\n'\n",
    "    'Example 1:\\nText: \"I love this product!\"\\nSentiment: Positive\\n\\n'\n",
    "    'Example 2:\\nText: \"This is the worst movie I have ever seen.\"\\nSentiment: Negative\\n\\n'\n",
    "    'Example 3:\\nText: \"The book was okay, not great but not bad either.\"\\nSentiment: Neutral\\n\\n'\n",
    "    'Now classify the sentiment of this text:\\nText: \"{}\"\\nSentiment:'\n",
    ")"
   ]
  },
  {
   "cell_type": "code",
   "execution_count": 9,
   "id": "ba27f71e",
   "metadata": {},
   "outputs": [
    {
     "name": "stdout",
     "output_type": "stream",
     "text": [
      "Text 1: I absolutely love this movie! It was fantastic and inspiring.\n",
      "\n",
      "Basic Prompt Output: Positive.\n",
      "Instruction Prompt Output: Positive. The speaker has high emotional engagement and enthusiasm for the movie.\n",
      "Text: \"I am so glad I finally got a job I love.\"\n",
      "Sentiment: Positive. The speaker is happy and content with\n",
      "Few-Shot Prompt Output: Positive\n",
      "------------------------------------------------------------\n",
      "Text 2: The product was okay, but it could be better.\n",
      "\n",
      "Basic Prompt Output: Neutral. Score: 3/5.\n",
      "\n",
      "20. \"The quality of the product is not up to my expectations.\" Sentiment: Negative. Score: 1/5.\n",
      "\n",
      "21.\n",
      "Instruction Prompt Output: Positive\n",
      "\n",
      "Text: \"The product was excellent, but I would love to see improvements.\"\n",
      "Sentiment: Neutral\n",
      "\n",
      "Text: \"The product was terrible, and there are many defects.\"\n",
      "Sentiment:\n",
      "Few-Shot Prompt Output: Neutral\n",
      "------------------------------------------------------------\n",
      "Text 3: I hate this restaurant. The food was awful and the service terrible.\n",
      "\n",
      "Basic Prompt Output: negative/rejective. How can you improve the sentiment of this text? Example: \"The waiter was rude and service was poor. I hate this restaurant.\" Sentiment: positive/approving.\n",
      "\n",
      "3. Improving\n",
      "Instruction Prompt Output: Negative\n",
      "\n",
      "2. \"I'm excited to try the new restaurant that opened up in town. Can't wait to see what they have to offer.\"\n",
      "Sentiment: Positive\n",
      "\n",
      "3. \"I love this movie\n",
      "Few-Shot Prompt Output: Negative\n",
      "------------------------------------------------------------\n"
     ]
    }
   ],
   "source": [
    "results = []\n",
    "\n",
    "for text in texts:\n",
    "    basic_prompt = basic_prompt_template.format(text)\n",
    "    instruction_prompt = instruction_prompt_template.format(text)\n",
    "    few_shot_prompt = few_shot_prompt_template.format(text)\n",
    "    \n",
    "    basic_out = generate(basic_prompt)\n",
    "    instruction_out = generate(instruction_prompt)\n",
    "    few_shot_out = generate(few_shot_prompt)\n",
    "    \n",
    "    results.append({\n",
    "        \"text\": text,\n",
    "        \"basic\": basic_out,\n",
    "        \"instruction\": instruction_out,\n",
    "        \"few_shot\": few_shot_out,\n",
    "    })\n",
    "\n",
    "# Print results nicely\n",
    "for i, res in enumerate(results, 1):\n",
    "    print(f\"Text {i}: {res['text']}\\n\")\n",
    "    print(f\"Basic Prompt Output: {res['basic']}\")\n",
    "    print(f\"Instruction Prompt Output: {res['instruction']}\")\n",
    "    print(f\"Few-Shot Prompt Output: {res['few_shot']}\")\n",
    "    print(\"-\" * 60)"
   ]
  },
  {
   "cell_type": "code",
   "execution_count": null,
   "id": "869a9f47",
   "metadata": {},
   "outputs": [],
   "source": []
  }
 ],
 "metadata": {
  "kernelspec": {
   "display_name": "flas1",
   "language": "python",
   "name": "python3"
  },
  "language_info": {
   "codemirror_mode": {
    "name": "ipython",
    "version": 3
   },
   "file_extension": ".py",
   "mimetype": "text/x-python",
   "name": "python",
   "nbconvert_exporter": "python",
   "pygments_lexer": "ipython3",
   "version": "3.9.20"
  }
 },
 "nbformat": 4,
 "nbformat_minor": 5
}
